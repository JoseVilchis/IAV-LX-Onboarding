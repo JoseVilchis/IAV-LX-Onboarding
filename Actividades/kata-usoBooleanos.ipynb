{
 "cells": [
  {
   "cell_type": "markdown",
   "metadata": {},
   "source": [
    "# Kata 3: Uso de booleanos\n",
    "Para este ejercicio, escribirás una lógica condicional que imprima una advertencia si un asteroide se acerca a la Tierra demasiado rápido. La velocidad del asteroide varía dependiendo de lo cerca que esté del sol, y cualquier velocidad superior a 25 kilómetros por segundo (km/s) merece una advertencia.\n",
    "\n",
    "Un asteroide se acerca, y viaja a una velocidad de 49 km/s."
   ]
  },
  {
   "cell_type": "code",
   "execution_count": 1,
   "metadata": {},
   "outputs": [
    {
     "name": "stdout",
     "output_type": "stream",
     "text": [
      "Cuidado que el asteroide va demasiado rapido\n"
     ]
    }
   ],
   "source": [
    "velocityAsteroid= 49\n",
    "dangerVelocity=25\n",
    "\n",
    "if velocityAsteroid>=dangerVelocity:\n",
    "    print(\"Cuidado que el asteroide va demasiado rapido\")"
   ]
  },
  {
   "cell_type": "markdown",
   "metadata": {},
   "source": [
    "Si un asteroide entra en la atmósfera de la Tierra a una velocidad mayor o igual a 20 km/s, a veces produce un rayo de luz que se puede ver desde la Tierra. Escribe la lógica condicional que usa declaraciones if, else, y elif para alertar a las personas de todo el mundo que deben buscar un asteroide en el cielo. ¡Hay uno que se dirige a la tierra ahora a una velocidad de 19 km/s!"
   ]
  },
  {
   "cell_type": "code",
   "execution_count": 2,
   "metadata": {},
   "outputs": [
    {
     "name": "stdout",
     "output_type": "stream",
     "text": [
      "Ya valimos, y sin saber nada\n"
     ]
    }
   ],
   "source": [
    "velocityAsteroid=19\n",
    "dangerVelocity=20\n",
    "\n",
    "if velocityAsteroid>dangerVelocity:\n",
    "    print(\"Hermano,hay que ver el cielo\")\n",
    "elif velocityAsteroid==dangerVelocity:\n",
    "    print(\"Hermano,hay que ver el cielo\")\n",
    "else:\n",
    "    print(\"Ya valimos, y sin saber nada\")"
   ]
  },
  {
   "cell_type": "markdown",
   "metadata": {},
   "source": [
    "En este ejercicio, aprenderás información más matizada sobre cuándo los asteroides representan un peligro para la Tierra, y utilizarás esa información para mejorar nuestro sistema de advertencia. Aquí está la nueva información que necesitas saber:\n",
    "\n",
    "*Los asteroides de menos de 25 metros en su dimensión más grande probablemente se quemarán a medida que entren en la atmósfera de la Tierra.\n",
    "\n",
    "Si una pieza de un asteroide que es más grande que 25 metros pero más pequeña que 1000 metros golpeara la Tierra, causaría mucho daño.\n",
    "También discutimos en el ejercicio anterior que:\n",
    "\n",
    "La velocidad del asteroide varía en función de lo cerca que esté del sol, y cualquier velocidad superior a 25 kilómetros por segundo (km/s) merece una advertencia.\n",
    "Si un asteroide entra en la atmósfera de la Tierra a una velocidad mayor o igual a 20 km/s, a veces produce un rayo de luz que se puede ver desde la Tierra.\n"
   ]
  },
  {
   "cell_type": "code",
   "execution_count": 8,
   "metadata": {},
   "outputs": [
    {
     "name": "stdout",
     "output_type": "stream",
     "text": [
      "El daño sera critico\n"
     ]
    }
   ],
   "source": [
    "velocityAsteroid=19\n",
    "sizeAsteroid=26\n",
    "\n",
    "if sizeAsteroid>=1000:\n",
    "    print(\"Ya no existira la tierra :(\")\n",
    "elif sizeAsteroid>25 and sizeAsteroid<1000:\n",
    "    print(\"El daño sera critico\")\n",
    "    if velocityAsteroid>25:\n",
    "        print(\"El asteroide va demasiado rapido\")\n",
    "        if velocityAsteroid>=20:\n",
    "            print(\"Se vera un haz de luz\")\n",
    "else:\n",
    "    print(\"Puro polvo estelar\")"
   ]
  }
 ],
 "metadata": {
  "interpreter": {
   "hash": "e7370f93d1d0cde622a1f8e1c04877d8463912d04d973331ad4851f04de6915a"
  },
  "kernelspec": {
   "display_name": "Python 3.10.4 64-bit",
   "language": "python",
   "name": "python3"
  },
  "language_info": {
   "codemirror_mode": {
    "name": "ipython",
    "version": 3
   },
   "file_extension": ".py",
   "mimetype": "text/x-python",
   "name": "python",
   "nbconvert_exporter": "python",
   "pygments_lexer": "ipython3",
   "version": "3.10.4"
  },
  "orig_nbformat": 4
 },
 "nbformat": 4,
 "nbformat_minor": 2
}
